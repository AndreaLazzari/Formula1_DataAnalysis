{
 "cells": [
  {
   "cell_type": "markdown",
   "metadata": {},
   "source": [
    "# Abu Dhabi 2021 Minisector Comparison"
   ]
  },
  {
   "cell_type": "markdown",
   "metadata": {},
   "source": [
    "<p align=\"center\">\n",
    " <img src = \"AbuDhabi.jpeg\">\n",
    "</p>\n"
   ]
  },
  {
   "cell_type": "markdown",
   "metadata": {},
   "source": [
    "In this notebook, we will be comparing the minisector performance of the Abu Dhabi 2021 season. Specifically we will analyze the qualification session, one of the most spectacular ones of the season.\n",
    "\n",
    "Max Verstappen and Lewis Hamilton have been going neck-and-neck all season, and nothing was different during the Abu Dhabi Grand Prix.\n",
    "\n",
    "In contrast with what happened in the earlier practice session, Verstappen beats Hamilton to pole position with $0.371$ seconds. We will analyze this lap in order to find differences between the two drivers."
   ]
  },
  {
   "cell_type": "markdown",
   "metadata": {},
   "source": [
    "### Step 1: Setting up the basics"
   ]
  },
  {
   "cell_type": "markdown",
   "metadata": {},
   "source": [
    "As first thing we import the libraries we need. If you don’t have any of these installed, make sure to pip install it in your command line, by for example doing `pip install fastf1` ."
   ]
  },
  {
   "cell_type": "code",
   "execution_count": 4,
   "metadata": {},
   "outputs": [],
   "source": [
    "import fastf1 as ff1\n",
    "from fastf1 import plotting\n",
    "from matplotlib import pyplot as plt\n",
    "from matplotlib.pyplot import figure\n",
    "from matplotlib.collections import LineCollection\n",
    "from matplotlib import cm\n",
    "import numpy as np\n",
    "import pandas as pd\n",
    "\n",
    "# Enable the cache\n",
    "ff1.Cache.enable_cache('/home/ilazza/Documenti/Formula1_Data_Analysis/cache') \n",
    "\n",
    "# Setup plotting\n",
    "plotting.setup_mpl()\n",
    "\n",
    "# Get rid of some pandas warnings that are not relevant for us at the moment\n",
    "pd.options.mode.chained_assignment = None"
   ]
  },
  {
   "cell_type": "markdown",
   "metadata": {},
   "source": [
    "Since, as you will notice later, it can take a few seconds to load the data from the qualification session, we want to cache that data so that we can quickly access it later. Also, we run a method coming from the `fastf1` library that sets up the plotting we will do in matplotlib."
   ]
  },
  {
   "cell_type": "markdown",
   "metadata": {},
   "source": [
    "### Step 2: Loading the data\n",
    "\n",
    "Now it’s time to collect the data. First, we select our session using `ff1.get_session(year, race, session)` . \n",
    "\n",
    "The session we are interested in is, in this case, Q for qualification. If you’d like to get any other session, you can also choose FP1/FP2/FP3, or R. After specifying the session, we can load the laps."
   ]
  },
  {
   "cell_type": "code",
   "execution_count": 5,
   "metadata": {},
   "outputs": [
    {
     "name": "stderr",
     "output_type": "stream",
     "text": [
      "core           INFO \tLoading laps for Abu Dhabi Grand Prix - Qualifying [v2.1.12]\n",
      "api            INFO \tNo cached data found for timing_data. Loading data...\n",
      "api            INFO \tFetching timing data...\n",
      "api            INFO \tParsing timing data...\n",
      "api            INFO \tData has been written to cache!\n",
      "api            INFO \tNo cached data found for timing_app_data. Loading data...\n",
      "api            INFO \tFetching timing app data...\n",
      "api            INFO \tData has been written to cache!\n",
      "core           INFO \tProcessing timing data...\n",
      "api            INFO \tNo cached data found for driver_info. Loading data...\n",
      "api            INFO \tFetching driver list...\n",
      "api            INFO \tData has been written to cache!\n",
      "api            INFO \tNo cached data found for session_status_data. Loading data...\n",
      "api            INFO \tFetching session status data...\n",
      "api            INFO \tData has been written to cache!\n",
      "api            INFO \tNo cached data found for track_status_data. Loading data...\n",
      "api            INFO \tFetching track status data...\n",
      "api            INFO \tData has been written to cache!\n",
      "api            INFO \tNo cached data found for car_data. Loading data...\n",
      "api            INFO \tFetching car data...\n",
      "api            INFO \tParsing car data...\n",
      "api            INFO \tData has been written to cache!\n",
      "api            INFO \tNo cached data found for position_data. Loading data...\n",
      "api            INFO \tFetching position data...\n",
      "api            INFO \tParsing position data...\n",
      "api            INFO \tData has been written to cache!\n",
      "api            INFO \tNo cached data found for weather_data. Loading data...\n",
      "api            INFO \tFetching weather data...\n",
      "api            INFO \tData has been written to cache!\n",
      "core           INFO \tLoaded data for 20 drivers: ['77', '18', '55', '3', '7', '11', '16', '99', '22', '6', '63', '9', '44', '10', '14', '5', '33', '47', '4', '31']\n"
     ]
    }
   ],
   "source": [
    "#Load the session data\n",
    "quali = ff1.get_session(2021, 'Abu Dhabi', 'Q')\n",
    "\n",
    "#Get the laps\n",
    "laps = quali.load_laps(with_telemetry=True)"
   ]
  },
  {
   "cell_type": "markdown",
   "metadata": {},
   "source": [
    "## Step 2.1: Processing the data\n",
    "\n",
    "In the world of data, a dataset is (unofrtunately) almost never reasy *out-of-the-box*. It always needs some data transformtation to enrich the data or to re-format the data into the shape we want it in. \n",
    "\n",
    "### Expand the data\n",
    "\n",
    "We start with selecting the specific data we require, and adding to it what we need. This involves selecting the fastest laps from Hamilton and Verstappen, getting their telemetry data, adding the distance variable so we can compare the speeds over the distance, and merging both telemetry DataFrames into a single DataFrame called `telemetry` ."
   ]
  },
  {
   "cell_type": "code",
   "execution_count": 10,
   "metadata": {},
   "outputs": [],
   "source": [
    "#Select the laps from Hamilton and Verstaappen\n",
    "laps_ver = laps.pick_driver('VER')\n",
    "laps_ham = laps.pick_driver('HAM')\n",
    "\n",
    "#Get the telemetry data from their fastest laps\n",
    "fastest_ver = laps_ver.pick_fastest().get_telemetry().add_distance()\n",
    "fastest_ham = laps_ham.pick_fastest().get_telemetry().add_distance()\n",
    "\n",
    "#Since the telemetry data does not have a variable that indicates the driver, we add it manually\n",
    "fastest_ver['Driver'] = 'VER'\n",
    "fastest_ham['Driver'] = 'HAM'\n",
    "\n",
    "#Merge both lap telemetries into one dataframe\n",
    "\n",
    "telemetry = fastest_ver.append(fastest_ham)\n",
    "\n",
    "\n"
   ]
  },
  {
   "cell_type": "code",
   "execution_count": 14,
   "metadata": {},
   "outputs": [
    {
     "data": {
      "text/html": [
       "<div>\n",
       "<style scoped>\n",
       "    .dataframe tbody tr th:only-of-type {\n",
       "        vertical-align: middle;\n",
       "    }\n",
       "\n",
       "    .dataframe tbody tr th {\n",
       "        vertical-align: top;\n",
       "    }\n",
       "\n",
       "    .dataframe thead th {\n",
       "        text-align: right;\n",
       "    }\n",
       "</style>\n",
       "<table border=\"1\" class=\"dataframe\">\n",
       "  <thead>\n",
       "    <tr style=\"text-align: right;\">\n",
       "      <th></th>\n",
       "      <th>Date</th>\n",
       "      <th>SessionTime</th>\n",
       "      <th>DriverAhead</th>\n",
       "      <th>DistanceToDriverAhead</th>\n",
       "      <th>Time</th>\n",
       "      <th>RPM</th>\n",
       "      <th>Speed</th>\n",
       "      <th>nGear</th>\n",
       "      <th>Throttle</th>\n",
       "      <th>Brake</th>\n",
       "      <th>DRS</th>\n",
       "      <th>Source</th>\n",
       "      <th>RelativeDistance</th>\n",
       "      <th>Status</th>\n",
       "      <th>X</th>\n",
       "      <th>Y</th>\n",
       "      <th>Z</th>\n",
       "      <th>Distance</th>\n",
       "      <th>Driver</th>\n",
       "    </tr>\n",
       "  </thead>\n",
       "  <tbody>\n",
       "    <tr>\n",
       "      <th>2</th>\n",
       "      <td>2021-12-11 13:52:51.006</td>\n",
       "      <td>0 days 01:07:50.822000</td>\n",
       "      <td></td>\n",
       "      <td>366.041667</td>\n",
       "      <td>0 days 00:00:00</td>\n",
       "      <td>11049</td>\n",
       "      <td>234</td>\n",
       "      <td>5</td>\n",
       "      <td>100</td>\n",
       "      <td>0</td>\n",
       "      <td>8</td>\n",
       "      <td>interpolation</td>\n",
       "      <td>0.000075</td>\n",
       "      <td>OnTrack</td>\n",
       "      <td>532</td>\n",
       "      <td>2076</td>\n",
       "      <td>-241</td>\n",
       "      <td>0.000000</td>\n",
       "      <td>VER</td>\n",
       "    </tr>\n",
       "    <tr>\n",
       "      <th>3</th>\n",
       "      <td>2021-12-11 13:52:51.029</td>\n",
       "      <td>0 days 01:07:50.845000</td>\n",
       "      <td></td>\n",
       "      <td>366.041667</td>\n",
       "      <td>0 days 00:00:00.023000</td>\n",
       "      <td>11005</td>\n",
       "      <td>235</td>\n",
       "      <td>5</td>\n",
       "      <td>100</td>\n",
       "      <td>0</td>\n",
       "      <td>8</td>\n",
       "      <td>pos</td>\n",
       "      <td>0.000368</td>\n",
       "      <td>OnTrack</td>\n",
       "      <td>546</td>\n",
       "      <td>2077</td>\n",
       "      <td>-239</td>\n",
       "      <td>1.501389</td>\n",
       "      <td>VER</td>\n",
       "    </tr>\n",
       "    <tr>\n",
       "      <th>4</th>\n",
       "      <td>2021-12-11 13:52:51.036</td>\n",
       "      <td>0 days 01:07:50.852000</td>\n",
       "      <td></td>\n",
       "      <td>366.041667</td>\n",
       "      <td>0 days 00:00:00.030000</td>\n",
       "      <td>10918</td>\n",
       "      <td>238</td>\n",
       "      <td>6</td>\n",
       "      <td>100</td>\n",
       "      <td>0</td>\n",
       "      <td>8</td>\n",
       "      <td>car</td>\n",
       "      <td>0.000458</td>\n",
       "      <td>OnTrack</td>\n",
       "      <td>550</td>\n",
       "      <td>2077</td>\n",
       "      <td>-238</td>\n",
       "      <td>1.964167</td>\n",
       "      <td>VER</td>\n",
       "    </tr>\n",
       "    <tr>\n",
       "      <th>5</th>\n",
       "      <td>2021-12-11 13:52:51.249</td>\n",
       "      <td>0 days 01:07:51.065000</td>\n",
       "      <td></td>\n",
       "      <td>366.041667</td>\n",
       "      <td>0 days 00:00:00.243000</td>\n",
       "      <td>11070</td>\n",
       "      <td>240</td>\n",
       "      <td>6</td>\n",
       "      <td>100</td>\n",
       "      <td>0</td>\n",
       "      <td>8</td>\n",
       "      <td>pos</td>\n",
       "      <td>0.003206</td>\n",
       "      <td>OnTrack</td>\n",
       "      <td>692</td>\n",
       "      <td>2096</td>\n",
       "      <td>-239</td>\n",
       "      <td>16.164167</td>\n",
       "      <td>VER</td>\n",
       "    </tr>\n",
       "    <tr>\n",
       "      <th>6</th>\n",
       "      <td>2021-12-11 13:52:51.276</td>\n",
       "      <td>0 days 01:07:51.092000</td>\n",
       "      <td>11</td>\n",
       "      <td>366.041667</td>\n",
       "      <td>0 days 00:00:00.270000</td>\n",
       "      <td>11222</td>\n",
       "      <td>243</td>\n",
       "      <td>6</td>\n",
       "      <td>100</td>\n",
       "      <td>0</td>\n",
       "      <td>8</td>\n",
       "      <td>car</td>\n",
       "      <td>0.003559</td>\n",
       "      <td>OnTrack</td>\n",
       "      <td>710</td>\n",
       "      <td>2098</td>\n",
       "      <td>-239</td>\n",
       "      <td>17.986667</td>\n",
       "      <td>VER</td>\n",
       "    </tr>\n",
       "  </tbody>\n",
       "</table>\n",
       "</div>"
      ],
      "text/plain": [
       "                     Date            SessionTime DriverAhead  \\\n",
       "2 2021-12-11 13:52:51.006 0 days 01:07:50.822000               \n",
       "3 2021-12-11 13:52:51.029 0 days 01:07:50.845000               \n",
       "4 2021-12-11 13:52:51.036 0 days 01:07:50.852000               \n",
       "5 2021-12-11 13:52:51.249 0 days 01:07:51.065000               \n",
       "6 2021-12-11 13:52:51.276 0 days 01:07:51.092000          11   \n",
       "\n",
       "   DistanceToDriverAhead                   Time    RPM  Speed  nGear  \\\n",
       "2             366.041667        0 days 00:00:00  11049    234      5   \n",
       "3             366.041667 0 days 00:00:00.023000  11005    235      5   \n",
       "4             366.041667 0 days 00:00:00.030000  10918    238      6   \n",
       "5             366.041667 0 days 00:00:00.243000  11070    240      6   \n",
       "6             366.041667 0 days 00:00:00.270000  11222    243      6   \n",
       "\n",
       "   Throttle  Brake  DRS         Source  RelativeDistance   Status    X     Y  \\\n",
       "2       100      0    8  interpolation          0.000075  OnTrack  532  2076   \n",
       "3       100      0    8            pos          0.000368  OnTrack  546  2077   \n",
       "4       100      0    8            car          0.000458  OnTrack  550  2077   \n",
       "5       100      0    8            pos          0.003206  OnTrack  692  2096   \n",
       "6       100      0    8            car          0.003559  OnTrack  710  2098   \n",
       "\n",
       "     Z   Distance Driver  \n",
       "2 -241   0.000000    VER  \n",
       "3 -239   1.501389    VER  \n",
       "4 -238   1.964167    VER  \n",
       "5 -239  16.164167    VER  \n",
       "6 -239  17.986667    VER  "
      ]
     },
     "execution_count": 14,
     "metadata": {},
     "output_type": "execute_result"
    }
   ],
   "source": [
    "telemetry.head()"
   ]
  },
  {
   "cell_type": "markdown",
   "metadata": {},
   "source": [
    "### Creating minisectors\n",
    "\n",
    "Since we’re comparing the speeds across minisectors, we first need to define the minisectors. We do this by cutting the total length of the track into 25 (this number can be changed) equally-sized chunks, which will form the minisectors."
   ]
  },
  {
   "cell_type": "code",
   "execution_count": 15,
   "metadata": {},
   "outputs": [],
   "source": [
    "#Chosen number 25 mini-sectors\n",
    "num_minisectors = 25\n",
    "\n",
    "#Grab the maximum value of distance that we have in our telemetry data \n",
    "total_distance = telemetry['Distance'].max()\n",
    "\n",
    "#Generate equally sized mini-sectors\n",
    "minisector_length = total_distance / num_minisectors\n"
   ]
  },
  {
   "cell_type": "markdown",
   "metadata": {},
   "source": [
    "Now we know length of each minisector, we want to create a list that contains all the distances at which the next minisector starts."
   ]
  },
  {
   "cell_type": "code",
   "execution_count": 16,
   "metadata": {},
   "outputs": [],
   "source": [
    "#Initialize the minisector variable, with 0 (meters) as starting point\n",
    "minisectors = [0]\n",
    "\n",
    "#Add multiple of the minisector_length to the minisectors\n",
    "for i in range(0, (num_minisectors -1)):\n",
    "    minisectors.append(minisector_length * (i+1))\n"
   ]
  },
  {
   "cell_type": "markdown",
   "metadata": {},
   "source": [
    "And finally, we want to assign every row that exists in the dataset a minisector. \n",
    "\n",
    "In other words, *in which minisector was the car at the moment the datapoint was recorded?* \n",
    "\n",
    "To do that, we create a column `Minisector` in the telemetry DataFrame, which looks the `Distance` up in the `minisector` variable we just created, to identify in which minisector we are."
   ]
  },
  {
   "cell_type": "code",
   "execution_count": 19,
   "metadata": {},
   "outputs": [],
   "source": [
    "telemetry['Minisector'] = telemetry['Distance'].apply(\n",
    "    lambda dist: ( int( (dist // minisector_length + 1)) )\n",
    "                                                     )                              "
   ]
  },
  {
   "cell_type": "markdown",
   "metadata": {},
   "source": [
    "### Calculate fastest driver per minisector\n",
    "\n",
    "The last thing we need to do is calculating the fastest driver per minisector, so we can determine the color of the plot for that minisector. \n",
    "\n",
    "This, again, involves a few transformations to the data that like `groupby()` operations.\n",
    "\n",
    "First, we calculate the average speed per driver per minisector, grouping by `Minisector` and `Driver`, taking the mean of the `Speed` column. \n"
   ]
  },
  {
   "cell_type": "code",
   "execution_count": 20,
   "metadata": {},
   "outputs": [],
   "source": [
    "#Calculate the average speed for each minisector\n",
    "\n",
    "average_speed = telemetry.groupby(['Minisector', 'Driver'])['Speed'].mean().reset_index()\n"
   ]
  },
  {
   "cell_type": "code",
   "execution_count": 23,
   "metadata": {},
   "outputs": [
    {
     "data": {
      "text/html": [
       "<div>\n",
       "<style scoped>\n",
       "    .dataframe tbody tr th:only-of-type {\n",
       "        vertical-align: middle;\n",
       "    }\n",
       "\n",
       "    .dataframe tbody tr th {\n",
       "        vertical-align: top;\n",
       "    }\n",
       "\n",
       "    .dataframe thead th {\n",
       "        text-align: right;\n",
       "    }\n",
       "</style>\n",
       "<table border=\"1\" class=\"dataframe\">\n",
       "  <thead>\n",
       "    <tr style=\"text-align: right;\">\n",
       "      <th></th>\n",
       "      <th>Minisector</th>\n",
       "      <th>Driver</th>\n",
       "      <th>Speed</th>\n",
       "    </tr>\n",
       "  </thead>\n",
       "  <tbody>\n",
       "    <tr>\n",
       "      <th>0</th>\n",
       "      <td>1</td>\n",
       "      <td>HAM</td>\n",
       "      <td>260.615385</td>\n",
       "    </tr>\n",
       "    <tr>\n",
       "      <th>1</th>\n",
       "      <td>1</td>\n",
       "      <td>VER</td>\n",
       "      <td>260.461538</td>\n",
       "    </tr>\n",
       "    <tr>\n",
       "      <th>2</th>\n",
       "      <td>2</td>\n",
       "      <td>HAM</td>\n",
       "      <td>233.035714</td>\n",
       "    </tr>\n",
       "    <tr>\n",
       "      <th>3</th>\n",
       "      <td>2</td>\n",
       "      <td>VER</td>\n",
       "      <td>236.482759</td>\n",
       "    </tr>\n",
       "    <tr>\n",
       "      <th>4</th>\n",
       "      <td>3</td>\n",
       "      <td>HAM</td>\n",
       "      <td>219.600000</td>\n",
       "    </tr>\n",
       "    <tr>\n",
       "      <th>5</th>\n",
       "      <td>3</td>\n",
       "      <td>VER</td>\n",
       "      <td>216.766667</td>\n",
       "    </tr>\n",
       "    <tr>\n",
       "      <th>6</th>\n",
       "      <td>4</td>\n",
       "      <td>HAM</td>\n",
       "      <td>265.080000</td>\n",
       "    </tr>\n",
       "    <tr>\n",
       "      <th>7</th>\n",
       "      <td>4</td>\n",
       "      <td>VER</td>\n",
       "      <td>265.080000</td>\n",
       "    </tr>\n",
       "    <tr>\n",
       "      <th>8</th>\n",
       "      <td>5</td>\n",
       "      <td>HAM</td>\n",
       "      <td>279.173913</td>\n",
       "    </tr>\n",
       "    <tr>\n",
       "      <th>9</th>\n",
       "      <td>5</td>\n",
       "      <td>VER</td>\n",
       "      <td>279.869565</td>\n",
       "    </tr>\n",
       "  </tbody>\n",
       "</table>\n",
       "</div>"
      ],
      "text/plain": [
       "   Minisector Driver       Speed\n",
       "0           1    HAM  260.615385\n",
       "1           1    VER  260.461538\n",
       "2           2    HAM  233.035714\n",
       "3           2    VER  236.482759\n",
       "4           3    HAM  219.600000\n",
       "5           3    VER  216.766667\n",
       "6           4    HAM  265.080000\n",
       "7           4    VER  265.080000\n",
       "8           5    HAM  279.173913\n",
       "9           5    VER  279.869565"
      ]
     },
     "execution_count": 23,
     "metadata": {},
     "output_type": "execute_result"
    }
   ],
   "source": [
    "average_speed.head(10)"
   ]
  },
  {
   "cell_type": "markdown",
   "metadata": {},
   "source": [
    "Then, we want to select the fastest driver per minisector. \n",
    "\n",
    "To do that, we use the `idxmax()` method, which returns the index of the row with the maximum value in the column we specify. "
   ]
  },
  {
   "cell_type": "code",
   "execution_count": 31,
   "metadata": {},
   "outputs": [],
   "source": [
    "#Select the fastest driver per minisector\n",
    "#the one with the highest average speed\n",
    "fastest_driver = average_speed.loc[average_speed.groupby('Minisector')['Speed'].idxmax()]\n",
    "\n",
    "#Get rid of the speed column and rename the driver column\n",
    "fastest_driver = fastest_driver.drop(columns=['Speed']).rename(columns={'Driver': 'Fastest_driver'})"
   ]
  },
  {
   "cell_type": "code",
   "execution_count": 32,
   "metadata": {},
   "outputs": [
    {
     "data": {
      "text/html": [
       "<div>\n",
       "<style scoped>\n",
       "    .dataframe tbody tr th:only-of-type {\n",
       "        vertical-align: middle;\n",
       "    }\n",
       "\n",
       "    .dataframe tbody tr th {\n",
       "        vertical-align: top;\n",
       "    }\n",
       "\n",
       "    .dataframe thead th {\n",
       "        text-align: right;\n",
       "    }\n",
       "</style>\n",
       "<table border=\"1\" class=\"dataframe\">\n",
       "  <thead>\n",
       "    <tr style=\"text-align: right;\">\n",
       "      <th></th>\n",
       "      <th>Minisector</th>\n",
       "      <th>Fastest_driver</th>\n",
       "    </tr>\n",
       "  </thead>\n",
       "  <tbody>\n",
       "    <tr>\n",
       "      <th>0</th>\n",
       "      <td>1</td>\n",
       "      <td>HAM</td>\n",
       "    </tr>\n",
       "    <tr>\n",
       "      <th>3</th>\n",
       "      <td>2</td>\n",
       "      <td>VER</td>\n",
       "    </tr>\n",
       "    <tr>\n",
       "      <th>4</th>\n",
       "      <td>3</td>\n",
       "      <td>HAM</td>\n",
       "    </tr>\n",
       "    <tr>\n",
       "      <th>6</th>\n",
       "      <td>4</td>\n",
       "      <td>HAM</td>\n",
       "    </tr>\n",
       "    <tr>\n",
       "      <th>9</th>\n",
       "      <td>5</td>\n",
       "      <td>VER</td>\n",
       "    </tr>\n",
       "    <tr>\n",
       "      <th>11</th>\n",
       "      <td>6</td>\n",
       "      <td>VER</td>\n",
       "    </tr>\n",
       "    <tr>\n",
       "      <th>12</th>\n",
       "      <td>7</td>\n",
       "      <td>HAM</td>\n",
       "    </tr>\n",
       "    <tr>\n",
       "      <th>14</th>\n",
       "      <td>8</td>\n",
       "      <td>HAM</td>\n",
       "    </tr>\n",
       "    <tr>\n",
       "      <th>17</th>\n",
       "      <td>9</td>\n",
       "      <td>VER</td>\n",
       "    </tr>\n",
       "    <tr>\n",
       "      <th>19</th>\n",
       "      <td>10</td>\n",
       "      <td>VER</td>\n",
       "    </tr>\n",
       "  </tbody>\n",
       "</table>\n",
       "</div>"
      ],
      "text/plain": [
       "    Minisector Fastest_driver\n",
       "0            1            HAM\n",
       "3            2            VER\n",
       "4            3            HAM\n",
       "6            4            HAM\n",
       "9            5            VER\n",
       "11           6            VER\n",
       "12           7            HAM\n",
       "14           8            HAM\n",
       "17           9            VER\n",
       "19          10            VER"
      ]
     },
     "execution_count": 32,
     "metadata": {},
     "output_type": "execute_result"
    }
   ],
   "source": [
    "fastest_driver.head(10)"
   ]
  },
  {
   "cell_type": "markdown",
   "metadata": {},
   "source": [
    "The only remaining thing we need to do is to join the fastest driver per minisector with the full telemetry data, so that we can easily plot all the data later. \n",
    "\n",
    "In addition, we need to make sure that the `Distance` is properly sorted.\n",
    "\n",
    "Last, but not least, we need to convert the driver abbreviation (e.g. “HAM”) to an integer value, since otherwise matplotlib won’t be able to deal with it."
   ]
  },
  {
   "cell_type": "code",
   "execution_count": 33,
   "metadata": {},
   "outputs": [],
   "source": [
    "# Join the fastest driver per minisector with the full telemetry\n",
    "telemetry = telemetry.merge(fastest_driver, on=['Minisector'])\n",
    "\n",
    "# Order the data by distance to make matploblib does not get confused\n",
    "telemetry = telemetry.sort_values(by=['Distance'])\n",
    "\n",
    "# Convert driver name to integer\n",
    "telemetry.loc[telemetry['Fastest_driver'] == 'VER', 'Fastest_driver_int'] = 1\n",
    "telemetry.loc[telemetry['Fastest_driver'] == 'HAM', 'Fastest_driver_int'] = 2\n"
   ]
  },
  {
   "cell_type": "markdown",
   "metadata": {},
   "source": [
    "## Step 3: Plotting the data\n",
    "\n",
    "Finally it's time to plot the data.\n",
    "\n",
    "* [Line 1–2] We extract the `x` and `y` value from every row, which tells us where exactly the car was on the track at that point in time. We will use this to draw the shape of the circuit.\n",
    "  \n",
    "* [Line 4–6] The x- and y-coordinates are combined so that they become points. These points are then used to form segments between those points.\n",
    "  \n",
    "* [Line 8–11] This is all about the coloring of the plot. `cmap` stands for `ColorMap`, which basically defines the colors of the plot. I chose for the ‘winter’ color scheme, since that one gives us something like the **Red Bull** vs. **Mercedes** colors.  \n",
    "The previously defined `segments` will then take a color from the `Colormap`, and form a `LineCollection`, which is a collection of all the lines.\n",
    "  \n",
    "* [Line 15–17] This is where the plot gets drawn in the shape of the circuit. The `LineCollection` is added to the plot, and the labels are disabled on the x- and y-axes.\n",
    "  \n",
    "* [Line 19–21] This part adds the legend, which is the colorbar you will see on the right."
   ]
  },
  {
   "cell_type": "code",
   "execution_count": 40,
   "metadata": {},
   "outputs": [
    {
     "data": {
      "image/png": "[encoded data removed]",
      "text/plain": [
       "<Figure size 1296x720 with 2 Axes>"
      ]
     },
     "metadata": {},
     "output_type": "display_data"
    }
   ],
   "source": [
    "x = np.array(telemetry['X'].values)\n",
    "y = np.array(telemetry['Y'].values)\n",
    "\n",
    "points = np.array([x, y]).T.reshape(-1, 1, 2) \n",
    "segments = np.concatenate([points[:-1], points[1:]], axis=1)\n",
    "fastest_driver_array = telemetry['Fastest_driver_int'].to_numpy().astype(float)\n",
    "\n",
    "cmap = cm.get_cmap('winter' , 2)\n",
    "lc_comp = LineCollection(segments, cmap=cmap, norm=plt.Normalize(1, cmap.N+1))\n",
    "lc_comp.set_array(fastest_driver_array)\n",
    "lc_comp.set_linewidth(5)\n",
    "\n",
    "plt.rcParams['figure.figsize'] = [18, 10]    #Making the plot a bit bigger\n",
    "\n",
    "plt.gca().add_collection(lc_comp)\n",
    "plt.axis('equal')\n",
    "plt.tick_params(labelleft=False, left=False, labelbottom=False, bottom=False)\n",
    "\n",
    "cbar = plt.colorbar(mappable=lc_comp, boundaries=np.arange(1,4))\n",
    "cbar.set_ticks(np.arange(1.5, 9.5))\n",
    "cbar.set_ticklabels(['VER', 'HAM'])\n",
    "\n",
    "plt.show()\n",
    "\n"
   ]
  },
  {
   "cell_type": "markdown",
   "metadata": {},
   "source": [
    "## Conclusions\n",
    "\n",
    "From this figure we can see all the differences between the two drivers' performance during their fastest quali laps.\n",
    "\n",
    "In particular the RedBull of Max Verstappen was faster than the Mercedes of Lewis Hamilton in most of all straights, while Lewis was faster in the slow curves."
   ]
  }
 ],
 "metadata": {
  "kernelspec": {
   "display_name": "Python 3.8.10 64-bit",
   "language": "python",
   "name": "python3"
  },
  "language_info": {
   "codemirror_mode": {
    "name": "ipython",
    "version": 3
   },
   "file_extension": ".py",
   "mimetype": "text/x-python",
   "name": "python",
   "nbconvert_exporter": "python",
   "pygments_lexer": "ipython3",
   "version": "3.8.10"
  },
  "orig_nbformat": 4,
  "vscode": {
   "interpreter": {
    "hash": "e7370f93d1d0cde622a1f8e1c04877d8463912d04d973331ad4851f04de6915a"
   }
  }
 },
 "nbformat": 4,
 "nbformat_minor": 2
}
